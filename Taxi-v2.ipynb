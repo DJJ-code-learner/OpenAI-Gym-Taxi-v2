{
 "cells": [
  {
   "cell_type": "code",
   "execution_count": 1,
   "metadata": {},
   "outputs": [],
   "source": [
    "from collections import deque, defaultdict\n",
    "import sys, math, random\n",
    "import numpy as np\n",
    "import gym"
   ]
  },
  {
   "cell_type": "code",
   "execution_count": 2,
   "metadata": {},
   "outputs": [],
   "source": [
    "def interact(env, agent, num_episodes=50000, window=100):\n",
    "    avg_rewards = list()\n",
    "    best_avg_reward = -math.inf\n",
    "    samp_rewards = deque(maxlen=window)\n",
    "\n",
    "    for i_episode in range(1, num_episodes+1):\n",
    "        state = env.reset()\n",
    "        samp_reward = 0\n",
    "        while True:\n",
    "            action = agent.select_action(state, i_episode)\n",
    "            next_state, reward, done, _ = env.step(action)\n",
    "            agent.step(state, action, reward, next_state, done)\n",
    "            samp_reward += reward\n",
    "            state = next_state\n",
    "            if done:\n",
    "                samp_rewards.append(samp_reward)\n",
    "                break\n",
    "        if (i_episode >= 100):\n",
    "            avg_reward = np.mean(samp_rewards)\n",
    "            avg_rewards.append(avg_reward)\n",
    "            if avg_reward > best_avg_reward:\n",
    "                best_avg_reward = avg_reward\n",
    "        print(\"\\rEpisode {} , epsilon = {:.5f}, alpha = {:.5f}, gamma = {:.5f}|| Best average reward {:.3f}\".format(\n",
    "            i_episode, agent.epsilon, agent.alpha, agent.gamma, best_avg_reward), end=\"\")\n",
    "        sys.stdout.flush()\n",
    "        \n",
    "        # check if task is solved (according to OpenAI Gym)\n",
    "        if best_avg_reward >= 9.7:\n",
    "            print('\\nEnvironment solved in {} episodes.'.format(i_episode), end=\"\")\n",
    "            break\n",
    "        if i_episode == num_episodes: print('\\n')\n",
    "    return avg_rewards, best_avg_reward"
   ]
  },
  {
   "cell_type": "code",
   "execution_count": 3,
   "metadata": {},
   "outputs": [],
   "source": [
    "class Agent:\n",
    "    def __init__(self, nA=6, eps_range=[1e-3, 1e-5], alpha_range=[2e-2, 2e-3], gamma_range=[0.99, 0.85], decay_steps=20000):\n",
    "        self.nA = nA\n",
    "        self.Q = defaultdict(lambda: np.zeros(self.nA))\n",
    "        self.decay_steps = decay_steps\n",
    "        self.epsilons = np.linspace(eps_range[0], eps_range[1], self.decay_steps)\n",
    "        self.alphas = np.linspace(alpha_range[0], alpha_range[1], self.decay_steps)\n",
    "        self.gammas = np.linspace(gamma_range[0], gamma_range[1], self.decay_steps)\n",
    "    def select_action(self, state, i_episode):\n",
    "        self.epsilon = self.epsilons[min(i_episode, self.decay_steps-1)]\n",
    "        self.alpha = self.alphas[min(i_episode, self.decay_steps-1)]\n",
    "        self.gamma = self.gammas[min(i_episode, self.decay_steps-1)]\n",
    "        qmax_index = np.argmax(self.Q[state])\n",
    "        if random.uniform(0, 1) > self.epsilon:\n",
    "            return qmax_index\n",
    "        else:\n",
    "            others = [i for i in range(self.nA)]\n",
    "            _ = others.pop(qmax_index)\n",
    "            return random.choice(others)\n",
    "    def step(self, state, action, reward, next_state, done):\n",
    "        new_value = (1 - self.alpha) * self.Q[state][action] + \\\n",
    "            self.alpha * (reward + self.gamma * np.max(self.Q[next_state]))\n",
    "        self.Q[state][action] = new_value"
   ]
  },
  {
   "cell_type": "code",
   "execution_count": 4,
   "metadata": {},
   "outputs": [
    {
     "name": "stdout",
     "output_type": "stream",
     "text": [
      "Episode 50000 , epsilon = 0.00001, alpha = 0.00200, gamma = 0.85000|| Best average reward 9.35000\n",
      "\n"
     ]
    }
   ],
   "source": [
    "env = gym.make('Taxi-v2')\n",
    "agent = Agent()\n",
    "avg_rewards, best_avg_reward = interact(env, agent)"
   ]
  },
  {
   "cell_type": "code",
   "execution_count": 13,
   "metadata": {},
   "outputs": [
    {
     "data": {
      "image/png": "[encoded data removed]",
      "text/plain": [
       "<Figure size 432x288 with 1 Axes>"
      ]
     },
     "metadata": {},
     "output_type": "display_data"
    }
   ],
   "source": [
    "import matplotlib.pyplot as plt\n",
    "%matplotlib inline\n",
    "plt.plot(avg_rewards)\n",
    "plt.show()"
   ]
  }
 ],
 "metadata": {
  "kernelspec": {
   "display_name": "Python 3",
   "language": "python",
   "name": "python3"
  },
  "language_info": {
   "codemirror_mode": {
    "name": "ipython",
    "version": 3
   },
   "file_extension": ".py",
   "mimetype": "text/x-python",
   "name": "python",
   "nbconvert_exporter": "python",
   "pygments_lexer": "ipython3",
   "version": "3.6.5"
  },
  "toc": {
   "base_numbering": 1,
   "nav_menu": {},
   "number_sections": true,
   "sideBar": true,
   "skip_h1_title": false,
   "title_cell": "Table of Contents",
   "title_sidebar": "Contents",
   "toc_cell": false,
   "toc_position": {},
   "toc_section_display": true,
   "toc_window_display": false
  }
 },
 "nbformat": 4,
 "nbformat_minor": 2
}
